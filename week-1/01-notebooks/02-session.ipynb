{
 "cells": [
  {
   "cell_type": "markdown",
   "id": "479a287c-657e-4912-95ec-702d83aca53e",
   "metadata": {},
   "source": [
    "# Session 2: Variables and Boolean Expressions\n",
    "\n",
    "Today we're going to dig deeper into the process of programming, or coding. We're going to learn about _conditionals_, which is the way we make our code act based on a condition or predicate. We can change the outcome based on the state of a program, and have different outcomes for different states.\n",
    "\n",
    "## Agenda\n",
    "1. **Review of Previous Session/Homework** (15 minutes): Be sure we all understand what was covered in the last session before moving forward\n",
    "2. **Variables** (15 minutes): We will learn what a variable is, how to name them, and how to use them\n",
    "3. **Boolean variables/Boolean expressions** (10-15 minutes): We will learn about expressions and variables which are not numbers or strings, but rather, True or False\n",
    "4. **Conditional/\"if\" Statements** (45 minutes): We will learn how to ask yes/no questions in our code, and run different code based on the answers we get"
   ]
  },
  {
   "cell_type": "markdown",
   "id": "416931a9-ecc3-4dc8-a5c1-6cab6b769f52",
   "metadata": {},
   "source": [
    "# Review"
   ]
  },
  {
   "cell_type": "markdown",
   "id": "0be892e7-2acf-4e01-a27d-98f96199db29",
   "metadata": {},
   "source": [
    "Let's review key concepts from Session 1 before moving on...\n",
    "\n",
    "**Key Topics from Session 1:**\n",
    "- Algorithms\n",
    "- Numeric operators\n",
    "- Functions\n",
    "- Basic data types\n",
    "  \n",
    "### Quick Review Questions:\n",
    "1. What's an algorithm?\n",
    "2. What are the basic numeric operators?\n",
    "3. What are built-in functions, and which ones have we seen so far?\n",
    "4. What are the basic data types in programming? (We'll learn one more today...)"
   ]
  },
  {
   "cell_type": "markdown",
   "id": "cff7333f-0c8f-4386-9c48-109c3a3d8331",
   "metadata": {},
   "source": [
    "# Variables\n",
    "* Named \"boxes\" inside the computer's memory into which you can put values (data)\n",
    "* We can put a value into a variable by using an _assignment statement_, e.g.,\n",
    "  * __`year = 2025`__\n",
    "  * __`name = 'Grace Hopper'`__\n",
    "* An assignment statement is not a statement of equality (like we're used to from mathematics)\n",
    "  * Instead, it's a directive to put whatever _value_ is on the right-hand side of the __`=`__ into the variable on the left hand side"
   ]
  },
  {
   "cell_type": "code",
   "execution_count": null,
   "id": "8081d570-1ecc-4892-ab40-5b6517b7a3b6",
   "metadata": {},
   "outputs": [],
   "source": [
    "year = 2025\n",
    "year"
   ]
  },
  {
   "cell_type": "code",
   "execution_count": null,
   "id": "f627830b-12b2-43bd-a247-201c578f3f49",
   "metadata": {},
   "outputs": [],
   "source": [
    "name = 'Grace Hopper'\n",
    "name"
   ]
  },
  {
   "cell_type": "markdown",
   "id": "8a282c34-bb87-4d6a-8969-8fe31918aae9",
   "metadata": {},
   "source": [
    "### Some thoughts about variable names...\n",
    "* They may be arbitrarily long\n",
    "* They may contain both letters and numbers, but must begin with a letter\n",
    "* Uppercase letters are allowed, but by convention we don't use them (programming languages are often _case sensitive_–in other words __`counter`__ and __`Counter`__ are different variables)\n",
    "* You should choose meaningful names for your variables:\n",
    "  * __`counter`__ instead of __`c`__\n",
    "  * __`cost_per_ounce`__ instead of __`cpo`__\n",
    "  * __`first_name`__ instead of __`fn`__ or even __`fname`__\n",
    "* As you can see above, variable names can include underscores–use them to make your variable names clearer\n",
    "  * ...but do not start a variable name with an underscore"
   ]
  },
  {
   "cell_type": "markdown",
   "id": "fd2e118d-a475-4b9b-b7b5-20da2369cdbe",
   "metadata": {},
   "source": [
    "## Exercise: Variables\n",
    "Using an assignment statement, create a variable called __`first_name`__ and set it equal to a name of your choosing"
   ]
  },
  {
   "cell_type": "code",
   "execution_count": null,
   "id": "eb1bd501-1432-4e3b-81ac-e05bfe1d7f52",
   "metadata": {},
   "outputs": [],
   "source": []
  },
  {
   "cell_type": "markdown",
   "id": "14257e59-fd94-430f-86d7-9f90e91cfb3c",
   "metadata": {},
   "source": [
    "## Careful! \n",
    "* It's important to understand the difference between\n",
    "  * _evaluating an expression_ ... and ...\n",
    "  * _printing a value_"
   ]
  },
  {
   "cell_type": "code",
   "execution_count": null,
   "id": "92909b52-1d6d-4a1b-a699-e5c4d4614f5e",
   "metadata": {},
   "outputs": [],
   "source": [
    "# First, let's remember that an assignment statement tells the computer to DO something\n",
    "# ...but nothing is printed\n",
    "name = 'Margaret Hamilton'"
   ]
  },
  {
   "cell_type": "code",
   "execution_count": null,
   "id": "0854d75c-d681-4b5f-96b7-b5497910eede",
   "metadata": {},
   "outputs": [],
   "source": [
    "name # ask the computer to evaluate this \"expression\", i.e., \n",
    "     # ... \"Hey computer, show me the value inside this variable\""
   ]
  },
  {
   "cell_type": "markdown",
   "id": "4d3178ed-0e96-400b-bb22-b00bdaadcfbe",
   "metadata": {},
   "source": [
    "* When the interpreter displays the value of an expression, it uses the same format you would use to enter its value–so in the case of strings, that means that it includes the quotes\n",
    "* But when you call the __`print()`__ function, the output displays the contents of the string without the quotes..."
   ]
  },
  {
   "cell_type": "code",
   "execution_count": null,
   "id": "70f1071b-a248-4641-8e43-1f301310bab5",
   "metadata": {},
   "outputs": [],
   "source": [
    "print('Hello, my name is', name) # would the quotes make sense here?"
   ]
  },
  {
   "cell_type": "markdown",
   "id": "2bfaf031-13fa-4443-8ad5-7c61c4d7678f",
   "metadata": {},
   "source": [
    "## Boolean variables\n",
    "* We've learned about about __`int`__, __`float`__, and __`str`__ data types\n",
    "* Boolean variables (__`bool`__) are the final basic data type\n",
    "  * named after British mathematician [George Boole](https://en.wikipedia.org/wiki/George_Boole)\n",
    "* A Boolean variable can have one of two values–__`True`__ or __`False`__\n",
    "  * you can think of __`True`__ as __yes__ or __on__\n",
    "  * ...and __`False`__ is analogous to __no__ or __off__\n",
    "* At this point it might seem strange to have a variable which can only contain __`True`__ or __`False`__, so in order to help us understand these kind of variables, we're first going to introduce the idea of a __Boolean expression__...\n",
    "  * It's an expression that can only be __`True`__ or __`False`__\n",
    "  * Think of it as an __answer__ to a __yes or no__ question\n",
    "  * Let's try it...as usual, do not run a cell until you have thought about what you expect the output of the cell to be"
   ]
  },
  {
   "cell_type": "code",
   "execution_count": null,
   "id": "f6f3173f-38fc-455f-93b1-2fb7d61dbc7f",
   "metadata": {},
   "outputs": [],
   "source": [
    "4 > 3 # is this True or False?"
   ]
  },
  {
   "cell_type": "code",
   "execution_count": null,
   "id": "0e3a6405-a554-4542-b87f-9eca9cd22d8c",
   "metadata": {},
   "outputs": [],
   "source": [
    "# the == operator is used to compare objects\n",
    "# i.e., are the objects on either side of the == the same?\n",
    "'Tailor' == 'tailor' "
   ]
  },
  {
   "cell_type": "code",
   "execution_count": null,
   "id": "eaced649-79c7-461a-a5b0-d52d56a31ec3",
   "metadata": {},
   "outputs": [],
   "source": [
    "3 * 9 == 27 # True or False?"
   ]
  },
  {
   "cell_type": "markdown",
   "id": "b6d42ba0-df2a-4e67-8b50-7c69105c3fdb",
   "metadata": {},
   "source": [
    "* Let's try some Boolean expressions with variables in the mix..."
   ]
  },
  {
   "cell_type": "code",
   "execution_count": null,
   "id": "6f923619-3413-435b-8b21-90a1e6206347",
   "metadata": {},
   "outputs": [],
   "source": [
    "name == 'Margaret Hamilton'"
   ]
  },
  {
   "cell_type": "code",
   "execution_count": null,
   "id": "283c367a-6e28-4583-b356-cbc50b5c19de",
   "metadata": {},
   "outputs": [],
   "source": [
    "year > 2000 # 21st century? True or False?"
   ]
  },
  {
   "cell_type": "markdown",
   "id": "0c730f5d-726c-415d-be48-e690141d63df",
   "metadata": {},
   "source": [
    "# Conditionals (\"if\" statements)\n",
    "* Now that we understand the idea of Boolean expressions, we can use them to ask questions in our code"
   ]
  },
  {
   "cell_type": "code",
   "execution_count": null,
   "id": "a0acef54-a216-4e4a-9f86-5de3eb6daa2a",
   "metadata": {},
   "outputs": [],
   "source": [
    "number = 24"
   ]
  },
  {
   "cell_type": "code",
   "execution_count": null,
   "id": "6f508b61-2fc1-4c04-adf1-96525bcc69f7",
   "metadata": {},
   "outputs": [],
   "source": [
    "if number < 24: # this is called an \"if statement\"\n",
    "    print('Less than two dozen')"
   ]
  },
  {
   "cell_type": "code",
   "execution_count": null,
   "id": "ad82ec65-6235-4be6-8039-3b9988a7f97c",
   "metadata": {},
   "outputs": [],
   "source": [
    "if number >= 24: # is number greater than or equal to 24?\n",
    "    print('Two dozen or more')"
   ]
  },
  {
   "cell_type": "markdown",
   "id": "1d57be0e-f981-410d-b270-9850280b15b0",
   "metadata": {},
   "source": [
    "#### Note that __`if`__ statements can have an optional else part"
   ]
  },
  {
   "cell_type": "code",
   "execution_count": null,
   "id": "37af2bae-5ffa-40c8-9392-7798a01a33c3",
   "metadata": {},
   "outputs": [],
   "source": [
    "if number % 2 == 0:\n",
    "    print(number, 'is even')\n",
    "else:\n",
    "    print(number, 'is odd')"
   ]
  },
  {
   "cell_type": "markdown",
   "id": "1d6926dc-b254-4663-9b64-f41fc5d3803b",
   "metadata": {},
   "source": [
    "#### And they can have one or more \"else if\" parts, which is written __`elif`__ in this language"
   ]
  },
  {
   "cell_type": "code",
   "execution_count": null,
   "id": "c15dd67e-6a28-4a28-81fb-94679d43199d",
   "metadata": {},
   "outputs": [],
   "source": [
    "if number > 0: # is number greater than 0?\n",
    "    print(number, 'is positive')\n",
    "elif number < 0: # is number less than 0?\n",
    "    print(number, 'is negative')\n",
    "else:\n",
    "    print('zero')"
   ]
  },
  {
   "cell_type": "markdown",
   "id": "d3b08796-9ea5-4dcd-9e12-5f27e0027bf7",
   "metadata": {},
   "source": [
    "## Exercise: if statements\n",
    "Write an if statement to check if the variable __`first_name`__ is equal to a name of your choosing"
   ]
  },
  {
   "cell_type": "code",
   "execution_count": null,
   "id": "94ec119d-79a9-45e4-904a-279d97f9f345",
   "metadata": {},
   "outputs": [],
   "source": []
  },
  {
   "cell_type": "markdown",
   "id": "95a11e8e-2b81-4282-8fde-0eba5c5ff396",
   "metadata": {},
   "source": [
    "### What happens after we've written our algorithm?\n",
    "* Before we write code, we convert the algorithm to __pseudocode__\n",
    "  * A mix of English and programming constructs\n",
    "  * Should include the structure, i.e., the indentation\n",
    "  * ...but don't worry about the details/quirks of any specific programming language"
   ]
  },
  {
   "cell_type": "markdown",
   "id": "181d949d-d91c-4fe1-bf4a-452f6c4275e1",
   "metadata": {},
   "source": [
    "# What is Coding/Programming? (redux)\n",
    "* In the first session, we said it was...\n",
    "  * Converting a problem you want to solve into code which solves that problem\n",
    "    * or...Turning a __problem statement__ into code which will _solve_ that problem\n",
    "* Now let's talk about how we will actually do it\n",
    "  1. Write an algorithm–this should be understandable by another human (a non-programmer)\n",
    "     * therefore, we will not include any programming-specific language constructs at this stage\n",
    "     * once you have something that a non-programmer could read and perform the task, you're done with this step\n",
    "  2. Convert the algorithm to pseudocode\n",
    "     * think of this as a \"stepping stone\" to a code solution, but don't need to worry about the details of a specific language\n",
    "     * the goal is to have steps which can be converted, one by one into code\n",
    "  3. Convert each pseudocode step into actual code, and comment each line of code with the step it corresponds to\n",
    "  4. Let's see an example..."
   ]
  },
  {
   "cell_type": "markdown",
   "id": "2033cf9d",
   "metadata": {},
   "source": [
    "### Wrap-Up\n",
    "Today, we:\n",
    "- Practiced creating and using variables\n",
    "- Learned how Boolean values work in programming\n",
    "- Applied conditionals to make decisions in our code"
   ]
  }
 ],
 "metadata": {
  "language_info": {
   "name": "python"
  }
 },
 "nbformat": 4,
 "nbformat_minor": 5
}
