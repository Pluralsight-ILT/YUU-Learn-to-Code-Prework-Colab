{
 "cells": [
  {
   "cell_type": "markdown",
   "metadata": {},
   "source": [
    "# Homework 4: Advanced Logic"
   ]
  },
  {
   "cell_type": "markdown",
   "metadata": {},
   "source": [
    "## **Submission Guidelines**"
   ]
  },
  {
   "cell_type": "markdown",
   "metadata": {},
   "source": [
    "* Focus on completing Exercises 1-4. Exercises 5 are _stretch challenges_.\n",
    "* Submit your work as a single Python file (__`.py`__) or a Jupyter Notebook (__`.ipynb`__).\n",
    "* Clearly label each exercise and include comments to explain your logic."
   ]
  },
  {
   "cell_type": "markdown",
   "metadata": {},
   "source": [
    "\n",
    "\n",
    "## Instructions"
   ]
  },
  {
   "cell_type": "markdown",
   "metadata": {},
   "source": [
    "\n",
    "Copy this Jupyter Notebook and complete each exercise in the provided spaces.  \n",
    "\n",
    "- Clearly label each exercise and include comments explaining your logic.  \n",
    "- Focus on completing Exercises 1–4; Exercise 5 is a stretch challenge.\n",
    "- Modify the predefined variables as needed to test different cases.  \n",
    "\n",
    "**Remember to start with the English steps, write pseudocode, then write code.**"
   ]
  },
  {
   "cell_type": "markdown",
   "metadata": {},
   "source": [
    "## **Exercise 1: Multi-Condition Decisions**"
   ]
  },
  {
   "cell_type": "markdown",
   "metadata": {},
   "source": [
    "\n",
    "A **movie rating system** follows these rules:\n",
    "   - If `age` is **less than 13**, print `\"PG movies only\"`.\n",
    "   - If `age` is **between 13 and 17**, print `\"PG-13 movies allowed\"`.\n",
    "   - Otherwise, print `\"All movies allowed\"`."
   ]
  },
  {
   "cell_type": "code",
   "execution_count": null,
   "metadata": {},
   "outputs": [],
   "source": [
    "# Exercise 1\n",
    "\n",
    "age = 15  # Change this value to test\n",
    "\n",
    "# Your logic here\n"
   ]
  },
  {
   "cell_type": "markdown",
   "metadata": {},
   "source": [
    "## **Exercise 2: Decision Tree for Discounts**"
   ]
  },
  {
   "cell_type": "markdown",
   "metadata": {},
   "source": [
    "\n",
    "A **discount system** follows these rules:\n",
    "- If `is_student` is `True`, apply a 20% discount.\n",
    "- If `age` is **65 or older**, apply a 15% discount.\n",
    "- If both conditions are met, apply the higher discount only."
   ]
  },
  {
   "cell_type": "code",
   "execution_count": null,
   "metadata": {},
   "outputs": [],
   "source": [
    "# Exercise 2\n",
    "\n",
    "is_student = False  # Change this value to test\n",
    "age = 70  # Change this value to test\n",
    "\n",
    "# Your logic here\n"
   ]
  },
  {
   "cell_type": "markdown",
   "metadata": {},
   "source": [
    "\n",
    "## **Exercise 3: Loan Approval System**"
   ]
  },
  {
   "cell_type": "markdown",
   "metadata": {},
   "source": [
    "\n",
    "A **loan approval system** follows these rules:\n",
    "- Applicant **must be at least 18**.\n",
    "- Loan is **approved** if `income` is over **40k** OR `credit_score` is above **700**.\n",
    "- If the applicant has `has_debt = True`, then **both** conditions are required."
   ]
  },
  {
   "cell_type": "code",
   "execution_count": null,
   "metadata": {},
   "outputs": [],
   "source": [
    "# Exercise 3\n",
    "\n",
    "age = 30  # Change this value to test\n",
    "income = 45000  # Change this value to test\n",
    "credit_score = 710  # Change this value to test\n",
    "has_debt = False  # Change this value to test\n",
    "\n",
    "# Your logic here\n"
   ]
  },
  {
   "cell_type": "markdown",
   "metadata": {},
   "source": [
    "## **Exercise 4: Complex Weather Decision System**"
   ]
  },
  {
   "cell_type": "markdown",
   "metadata": {},
   "source": [
    "\n",
    "A **weather advisory system** follows these rules:\n",
    "- If `temperature` is **below 32°F**, print `\"Freezing warning\"`.\n",
    "- If `temperature` is **between 32°F and 50°F**, print `\"Cold weather\"`.\n",
    "- If `temperature` is **above 50°F** and `humidity` is **above 70%**, print `\"Warm but humid\"`.\n",
    "- Otherwise, print `\"Mild weather\"`.\n"
   ]
  },
  {
   "cell_type": "code",
   "execution_count": null,
   "metadata": {},
   "outputs": [],
   "source": [
    "# Exercise 4\n",
    "\n",
    "temperature = 55  # Change this value to test\n",
    "humidity = 80  # Change this value to test\n",
    "\n",
    "# Your logic here\n"
   ]
  },
  {
   "cell_type": "markdown",
   "metadata": {},
   "source": [
    "## **Exercise 5: Advanced Multi-Step Bank Security System (Extra Hard)**"
   ]
  },
  {
   "cell_type": "markdown",
   "metadata": {},
   "source": [
    "\n",
    "Design a **bank security system** that follows these rules:\n",
    "- If `is_employee = True`, grant full access.\n",
    "- If `is_manager = True`, grant access to sensitive files.\n",
    "- If `is_customer = True` and `account_balance > 1000`, allow transactions.\n",
    "- If none of the conditions apply, print `\"Access Denied\"`.\n",
    "- **Extended Rule:** If `security_alert = True`, deny all access regardless of other conditions."
   ]
  },
  {
   "cell_type": "code",
   "execution_count": null,
   "metadata": {},
   "outputs": [],
   "source": [
    "# Exercise 5\n",
    "\n",
    "is_employee = False  # Change this value to test\n",
    "is_manager = False  # Change this value to test\n",
    "is_customer = True  # Change this value to test\n",
    "account_balance = 5000  # Change this value to test\n",
    "security_alert = False  # Change this value to test\n",
    "\n",
    "# Your logic here\n"
   ]
  }
 ],
 "metadata": {
  "language_info": {
   "name": "python"
  }
 },
 "nbformat": 4,
 "nbformat_minor": 2
}
