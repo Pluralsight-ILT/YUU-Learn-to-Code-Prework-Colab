{
 "cells": [
  {
   "cell_type": "markdown",
   "metadata": {},
   "source": [
    "# Session 5: Lists\n",
    "\n",
    "Today we will review some fundamental programming concepts from previous sessions and then dive into lists!\n",
    "\n",
    "**It is one of the most versatile data structures in programming.**\n",
    "\n",
    "We will see how lists can store different types of values, how to manipulate them, and finally, you'll practice what you've learned through a guided exercise.\n",
    "\n",
    "## Agenda\n",
    "1. **Review and Demo** (15 minutes): Recap previous material and run a couple of live demos.\n",
    "2. **New Information – Introducing Lists** (40–45 minutes): Learn how to create, access, modify, and check membership in lists using several examples with different data types.\n",
    "3. **We Do and Wrap Up** (30 minutes): A hands-on exercise to solidify your understanding of lists."
   ]
  },
  {
   "cell_type": "markdown",
   "metadata": {},
   "source": [
    "## Part 1: Review and Demo\n",
    "\n",
    "Before we dive into lists, let's quickly review some core concepts from previous sessions.\n",
    "\n",
    "**Key Topics:**\n",
    "- Variables and assignment\n",
    "- Conditional statements (`if`/`else`)\n",
    "\n",
    "### Quick Review Questions:\n",
    "1. What is a variable and how do you assign a value to it?\n",
    "2. How do you write an `if`/`else` statement?\n",
    "3. Why are conditionals important in controlling the flow of your code?"
   ]
  },
  {
   "cell_type": "code",
   "execution_count": null,
   "metadata": {},
   "outputs": [],
   "source": [
    "# Demo 1: Basic variable assignment and if/else condition\n",
    "# Insert live demo code here"
   ]
  },
  {
   "cell_type": "code",
   "execution_count": null,
   "metadata": {},
   "outputs": [],
   "source": [
    "# Demo 2: Comparing two variables\n",
    "# Insert live demo code here"
   ]
  },
  {
   "cell_type": "markdown",
   "metadata": {},
   "source": [
    "Great! With these basics in mind, we can now explore lists."
   ]
  },
  {
   "cell_type": "markdown",
   "metadata": {},
   "source": [
    "## Part 2: New Information – Introducing Lists\n",
    "\n",
    "Lists are ordered collections that can store multiple items. These items can be of any type (e.g., strings, numbers, booleans, etc.).\n",
    "\n",
    "### 1. Creating Lists\n",
    "You can create a list by placing items inside square brackets `[]` separated by commas. Below are examples with different types of values."
   ]
  },
  {
   "cell_type": "code",
   "execution_count": null,
   "metadata": {},
   "outputs": [],
   "source": [
    "# Creating a list of strings (fruits)\n",
    "fruits = ['apple', 'banana', 'cherry']\n",
    "print('List of fruits:', fruits)"
   ]
  },
  {
   "cell_type": "code",
   "execution_count": null,
   "metadata": {},
   "outputs": [],
   "source": [
    "# Creating a list of integers (numbers)\n",
    "numbers = [1, 2, 3, 4, 5]\n",
    "print('List of numbers:', numbers)"
   ]
  },
  {
   "cell_type": "code",
   "execution_count": null,
   "metadata": {},
   "outputs": [],
   "source": [
    "# Creating a list with mixed data types\n",
    "# While allowed, this makes us work harder\n",
    "mixed_list = ['hello', 3.14, 42, True]\n",
    "print('Mixed list:', mixed_list)"
   ]
  },
  {
   "cell_type": "markdown",
   "metadata": {},
   "source": [
    "### 2. Accessing and Modifying Elements\n",
    "\n",
    "Lists are zero-indexed, meaning the first element is at index `0`. You can access an element by its index and modify it by assigning a new value."
   ]
  },
  {
   "cell_type": "code",
   "execution_count": null,
   "metadata": {},
   "outputs": [],
   "source": [
    "# Accessing the first element of the fruits list\n",
    "print('First fruit:', fruits[0])"
   ]
  },
  {
   "cell_type": "code",
   "execution_count": null,
   "metadata": {},
   "outputs": [],
   "source": [
    "# Accessing the second element of the numbers list\n",
    "print('Second number:', numbers[1])"
   ]
  },
  {
   "cell_type": "code",
   "execution_count": null,
   "metadata": {},
   "outputs": [],
   "source": [
    "# Modifying an element in the mixed_list: change the first element\n",
    "print('Original mixed list:', mixed_list)\n",
    "mixed_list[0] = 'world'\n",
    "print('Modified mixed list:', mixed_list)"
   ]
  },
  {
   "cell_type": "markdown",
   "metadata": {},
   "source": [
    "### 3. Adding and Removing Elements\n",
    "\n",
    "Lists are mutable, so you can change them after creation. Use the `append()` method to add an item, and `remove()` or `pop()` to remove items.\n",
    "\n",
    "The concepts exist in every language, the name of the methods may be different."
   ]
  },
  {
   "cell_type": "code",
   "execution_count": null,
   "metadata": {},
   "outputs": [],
   "source": [
    "# Appending an element to the fruits list\n",
    "fruits.append('orange')\n",
    "print('After appending orange:', fruits)"
   ]
  },
  {
   "cell_type": "code",
   "execution_count": null,
   "metadata": {},
   "outputs": [],
   "source": [
    "# Removing an element from the fruits list (remove 'banana')\n",
    "fruits.remove('banana')\n",
    "print('After removing banana:', fruits)"
   ]
  },
  {
   "cell_type": "code",
   "execution_count": null,
   "metadata": {},
   "outputs": [],
   "source": [
    "# Using pop() to remove the last element from the fruits list\n",
    "removed_item = fruits.pop()\n",
    "print('Popped item:', removed_item)\n",
    "print('List after pop:', fruits)"
   ]
  },
  {
   "cell_type": "markdown",
   "metadata": {},
   "source": [
    "### 4. Checking for Membership\n",
    "\n",
    "To check if an item exists in a list, you can use the `in` keyword. This works with any data type stored in the list.\n",
    "\n",
    "The concept exist in every language, the name of the method may be different."
   ]
  },
  {
   "cell_type": "code",
   "execution_count": null,
   "metadata": {},
   "outputs": [],
   "source": [
    "# Membership check in the list of integers (numbers)\n",
    "if 3 in numbers:\n",
    "    print('3 is in the numbers list.')\n",
    "else:\n",
    "    print('3 is not in the numbers list.')"
   ]
  },
  {
   "cell_type": "code",
   "execution_count": null,
   "metadata": {},
   "outputs": [],
   "source": [
    "# Membership check in the mixed-type list\n",
    "if 'world' in mixed_list:\n",
    "    print('\"world\" is in the mixed list.')\n",
    "else:\n",
    "    print('\"world\" is not in the mixed list.')"
   ]
  },
  {
   "cell_type": "code",
   "execution_count": null,
   "metadata": {},
   "outputs": [],
   "source": [
    "# Additional Membership and Value Check\n",
    "# Create a list to test if the second element equals 'example'\n",
    "example_list = [\"sample\", \"example\", \"test\"]\n",
    "\n",
    "if example_list[1] == \"example\":\n",
    "    print(\"The second element of example_list is 'example'.\")\n",
    "else:\n",
    "    print(\"The second element of example_list is not 'example'.\")"
   ]
  },
  {
   "cell_type": "markdown",
   "metadata": {},
   "source": [
    "### 5. More Examples with Different Types of Lists\n",
    "\n",
    "Below are additional examples showing list operations using different data types:"
   ]
  },
  {
   "cell_type": "code",
   "execution_count": null,
   "metadata": {},
   "outputs": [],
   "source": [
    "# List of floating-point numbers\n",
    "floats = [1.1, 2.2, 3.3]\n",
    "print('Floats:', floats)"
   ]
  },
  {
   "cell_type": "code",
   "execution_count": null,
   "metadata": {},
   "outputs": [],
   "source": [
    "# List of booleans\n",
    "booleans = [True, False, True]\n",
    "print('Booleans:', booleans)"
   ]
  },
  {
   "cell_type": "markdown",
   "metadata": {},
   "source": [
    "Now that we've covered the creation and manipulation of lists with multiple examples, let's move on to the guided exercise."
   ]
  },
  {
   "cell_type": "markdown",
   "metadata": {},
   "source": [
    "## Part 3: We Do and Wrap Up\n",
    "\n",
    "It's time to put these concepts into practice. In the exercise below, you will:\n",
    "\n",
    "1. Create a list called `my_numbers` containing the numbers 1 to 5.\n",
    "2. Append the number 6 to `my_numbers`.\n",
    "3. Remove the number 3 from the list.\n",
    "4. Check if the number 4 is in the list and print an appropriate message.\n",
    "5. **Bonus:** Create a mixed-type list and perform at least one operation (access, modify, append, or remove).\n",
    "\n",
    "Work on the exercise by filling in the code cells below."
   ]
  },
  {
   "cell_type": "code",
   "execution_count": null,
   "metadata": {},
   "outputs": [],
   "source": [
    "# Guided Exercise - Step 1:\n",
    "# Create a list called `my_numbers` containing the numbers 1 through 5.\n",
    "# Print the list."
   ]
  },
  {
   "cell_type": "code",
   "execution_count": null,
   "metadata": {},
   "outputs": [],
   "source": [
    "# Guided Exercise - Step 2:\n",
    "# Append the number 6 to `my_numbers`.\n",
    "# Print the updated list."
   ]
  },
  {
   "cell_type": "code",
   "execution_count": null,
   "metadata": {},
   "outputs": [],
   "source": [
    "# Guided Exercise - Step 3:\n",
    "# Remove the number 3 from `my_numbers`.\n",
    "# Print the updated list."
   ]
  },
  {
   "cell_type": "code",
   "execution_count": null,
   "metadata": {},
   "outputs": [],
   "source": [
    "# Guided Exercise - Step 4:\n",
    "# Check if the number 4 is in `my_numbers` and print an appropriate message."
   ]
  },
  {
   "cell_type": "code",
   "execution_count": null,
   "metadata": {},
   "outputs": [],
   "source": [
    "# Bonus:\n",
    "# Create a mixed-type list called `mixed_example`.\n",
    "# Perform at least one operation (access, modify, append, or remove) on the list."
   ]
  },
  {
   "cell_type": "markdown",
   "metadata": {},
   "source": [
    "### Wrap-Up\n",
    "\n",
    "Today, we:\n",
    "- Reviewed basic concepts like variables and conditionals.\n",
    "- Learned about lists: creating them with various types of values, accessing and modifying their elements, adding and removing items, and checking for membership."
   ]
  }
 ],
 "metadata": {
  "kernelspec": {
   "display_name": "Python 3",
   "language": "python",
   "name": "python3"
  },
  "language_info": {
   "name": "python",
   "version": "3.x"
  }
 },
 "nbformat": 4,
 "nbformat_minor": 2
}
