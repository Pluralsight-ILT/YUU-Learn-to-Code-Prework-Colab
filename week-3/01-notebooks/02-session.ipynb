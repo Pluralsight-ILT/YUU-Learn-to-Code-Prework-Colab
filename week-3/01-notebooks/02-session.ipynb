{
 "cells": [
  {
   "cell_type": "markdown",
   "metadata": {},
   "source": [
    "# Session 2: Introduction to While Loops\n",
    "\n",
    "Welcome to Session 2! Today we will explore the concept of looping in Python using the **while loop**. We'll see how to repeat actions while a condition is true, and how to use while loops to iterate over lists. This session builds on basic variables and lists from our previous session.\n",
    "\n",
    "## Agenda\n",
    "1. **Review and Demo** (15 minutes): A brief review of basic concepts (including lists) with live demo cells.\n",
    "2. **New Information – Introducing While Loops** (40–45 minutes): Learn the syntax of while loops and see several basic examples, including using a counter and iterating over a list.\n",
    "3. **We Do and Wrap Up** (30 minutes): A guided exercise to practice writing while loops.\n"
   ]
  },
  {
   "cell_type": "markdown",
   "metadata": {},
   "source": [
    "## Part 1: Review and Demo\n",
    "\n",
    "Before we dive into while loops, let's quickly review some basic concepts such as variables, conditionals, and lists—since a while loop depends on a condition to determine when to stop.\n",
    "\n",
    "**Review Questions:**\n",
    "- What is a variable and how do you assign a value to it?\n",
    "- How do you write an `if`/`else` statement in Python?\n",
    "- How do you create and modify a list?\n",
    "- Why is it important to update conditions within a loop?\n",
    "\n",
    "Below are two demo cells for variables and conditionals. **(No answers are provided so that you can fill them in live with the class.)**"
   ]
  },
  {
   "cell_type": "code",
   "execution_count": null,
   "metadata": {},
   "outputs": [],
   "source": [
    "# Demo 1: Simple variable assignment and if/else condition\n",
    "# Insert live demo code here"
   ]
  },
  {
   "cell_type": "code",
   "execution_count": null,
   "metadata": {},
   "outputs": [],
   "source": [
    "# Demo 2: Demonstrate a basic condition check for a while loop\n",
    "# Insert live demo code here"
   ]
  },
  {
   "cell_type": "markdown",
   "metadata": {},
   "source": [
    "### Review Block: Working with Lists\n",
    "\n",
    "Let's review lists before we move on to while loops."
   ]
  },
  {
   "cell_type": "code",
   "execution_count": null,
   "metadata": {},
   "outputs": [],
   "source": [
    "# Review on Lists - Creating and Accessing Lists\n",
    "# For example: Create a list of your favorite colors and print the first and last elements.\n",
    "# Insert live demo code here"
   ]
  },
  {
   "cell_type": "markdown",
   "metadata": {},
   "source": [
    "# Session 2: Introduction to While Loops\n",
    "\n",
    "Welcome to Session 2! Today we will explore the concept of looping in Python using the **while loop**. We'll see how to repeat actions while a condition is true, and how to use while loops to iterate over lists. This session builds on basic variables and lists from our previous session.\n",
    "\n",
    "## Agenda\n",
    "1. **Review and Demo** (15 minutes): A brief review of basic concepts (including lists) with live demo cells.\n",
    "2. **New Information – Introducing While Loops** (40–45 minutes): Learn the syntax of while loops and see several basic examples, including using a counter and iterating over a list.\n",
    "3. **We Do and Wrap Up** (30 minutes): A guided exercise to practice writing while loops.\n"
   ]
  },
  {
   "cell_type": "markdown",
   "metadata": {},
   "source": [
    "## Part 1: Review and Demo\n",
    "\n",
    "Before we dive into while loops, let's quickly review some basic concepts such as variables, conditionals, and lists—since a while loop depends on a condition to determine when to stop.\n",
    "\n",
    "**Review Questions:**\n",
    "- What is a variable and how do you assign a value to it?\n",
    "- How do you write an `if`/`else` statement in Python?\n",
    "- How do you create and modify a list?\n",
    "- Why is it important to update conditions within a loop?\n",
    "\n",
    "Below are two demo cells for variables and conditionals. **(No answers are provided so that you can fill them in live with the class.)**"
   ]
  },
  {
   "cell_type": "code",
   "execution_count": null,
   "metadata": {},
   "outputs": [],
   "source": [
    "# Demo 1: Simple variable assignment and if/else condition\n",
    "# Insert live demo code here"
   ]
  },
  {
   "cell_type": "code",
   "execution_count": null,
   "metadata": {},
   "outputs": [],
   "source": [
    "# Demo 2: Demonstrate a basic condition check for a while loop\n",
    "# Insert live demo code here"
   ]
  },
  {
   "cell_type": "markdown",
   "metadata": {},
   "source": [
    "### Review Block: Working with Lists\n",
    "\n",
    "Let's review lists before we move on to while loops."
   ]
  },
  {
   "cell_type": "code",
   "execution_count": null,
   "metadata": {},
   "outputs": [],
   "source": [
    "# Review on Lists - Creating and Accessing Lists\n",
    "# For example: Create a list of your favorite colors and print the first and last elements.\n",
    "# Insert live demo code here"
   ]
  },
  {
   "cell_type": "code",
   "execution_count": null,
   "metadata": {},
   "outputs": [],
   "source": [
    "# Review on Lists - Modifying Lists\n",
    "# For example: Append a new color to the list and remove one color, then print the updated list.\n",
    "# Insert live demo code here"
   ]
  },
  {
   "cell_type": "markdown",
   "metadata": {},
   "source": [
    "Great! With these basics in mind, we can now explore while loops."
   ]
  },
  {
   "cell_type": "markdown",
   "metadata": {},
   "source": [
    "## Part 2: New Information – Introducing While Loops\n",
    "\n",
    "A **while loop** repeats a block of code as long as a specified condition is `True`. The basic structure is:\n",
    "\n",
    "```python\n",
    "while condition:\n",
    "    # code block to execute\n",
    "    # update something so that eventually the condition becomes False\n",
    "```\n",
    "\n",
    "Let's look at some examples."
   ]
  },
  {
   "cell_type": "code",
   "execution_count": null,
   "metadata": {},
   "outputs": [],
   "source": [
    "# Example 1: Using a while loop with a counter\n",
    "counter = 1\n",
    "while counter <= 5:\n",
    "    print(\"Counter is:\", counter)\n",
    "    counter += 1"
   ]
  },
  {
   "cell_type": "code",
   "execution_count": null,
   "metadata": {},
   "outputs": [],
   "source": [
    "# Example 2: Using a while loop with a boolean condition\n",
    "is_valid = False\n",
    "attempts = 0\n",
    "\n",
    "while not is_valid and attempts < 3:\n",
    "    print(f\"Attempt {attempts + 1}: Checking if input is valid...\")\n",
    "    # Simulate checking input\n",
    "    if attempts == 2:  # On the third attempt (index 2)\n",
    "        is_valid = True\n",
    "        print(\"Input is now valid!\")\n",
    "    else:\n",
    "        print(\"Input is not valid yet.\")\n",
    "    attempts += 1\n",
    "\n",
    "if is_valid:\n",
    "    print(\"Successfully validated input.\")\n",
    "else:\n",
    "    print(\"Failed to validate input after 3 attempts.\")"
   ]
  },
  {
   "cell_type": "code",
   "execution_count": null,
   "metadata": {},
   "outputs": [],
   "source": [
    "# Example 3: A while loop with a condition that's initially false\n",
    "counter = 10\n",
    "while counter < 5:\n",
    "    print(\"This will not print\")\n",
    "    counter += 1\n",
    "print(\"Loop ended because the condition was false from the start\")"
   ]
  },
  {
   "cell_type": "code",
   "execution_count": null,
   "metadata": {},
   "outputs": [],
   "source": [
    "# Example 4: A simple countdown using a while loop\n",
    "count = 3\n",
    "while count > 0:\n",
    "    print(count)\n",
    "    count -= 1\n",
    "print(\"Blastoff!\")"
   ]
  },
  {
   "cell_type": "markdown",
   "metadata": {},
   "source": [
    "Remember: Always update the variable used in the condition (such as `counter` or `index`) to avoid creating an infinite loop."
   ]
  },
  {
   "cell_type": "markdown",
   "metadata": {},
   "source": [
    "## Part 3: We Do and Wrap Up\n",
    "\n",
    "Now it's time to practice what we've learned about while loops. In the exercises below, you will:\n",
    "\n",
    "1. Create a list called `my_numbers` containing the numbers 1 to 5 and print it.\n",
    "2. Use a while loop to iterate over `my_numbers` and print each element.\n",
    "3. Use a while loop to calculate the sum of all numbers in `my_numbers` and print the sum.\n",
    "4. **Bonus:** Use a while loop to print the numbers 5 to 1 in descending order.\n",
    "5. **Additional Exercise:** Use a while loop to compute the average of the numbers in `my_numbers` and print it.\n",
    "6. **Additional Exercise:** Use a while loop to compute the product of all numbers in `my_numbers` and print the result.\n",
    "\n",
    "Work on the exercises by filling in the code cells below."
   ]
  },
  {
   "cell_type": "code",
   "execution_count": null,
   "metadata": {},
   "outputs": [],
   "source": [
    "# Guided Exercise - Step 1:\n",
    "# Create a list called `my_numbers` containing the numbers 1 through 5 and print it.\n",
    "# Your code here"
   ]
  },
  {
   "cell_type": "code",
   "execution_count": null,
   "metadata": {},
   "outputs": [],
   "source": [
    "# Guided Exercise - Step 2:\n",
    "# Use a while loop to iterate over `my_numbers` and print each element.\n",
    "# Your code here"
   ]
  },
  {
   "cell_type": "code",
   "execution_count": null,
   "metadata": {},
   "outputs": [],
   "source": [
    "# Guided Exercise - Step 3:\n",
    "# Use a while loop to calculate the sum of all numbers in `my_numbers` and print the sum.\n",
    "# Your code here"
   ]
  },
  {
   "cell_type": "code",
   "execution_count": null,
   "metadata": {},
   "outputs": [],
   "source": [
    "# Bonus - Guided Exercise:\n",
    "# Use a while loop to print the numbers 5 to 1 in descending order.\n",
    "# Your code here"
   ]
  },
  {
   "cell_type": "code",
   "execution_count": null,
   "metadata": {},
   "outputs": [],
   "source": [
    "# Additional Exercise - Step 5:\n",
    "# Use a while loop to compute the average of the numbers in `my_numbers` and print the average.\n",
    "# Your code here"
   ]
  },
  {
   "cell_type": "code",
   "execution_count": null,
   "metadata": {},
   "outputs": [],
   "source": [
    "# Additional Exercise - Step 6:\n",
    "# Use a while loop to compute the product of all numbers in `my_numbers` and print the product.\n",
    "# Your code here"
   ]
  },
  {
   "cell_type": "markdown",
   "metadata": {},
   "source": [
    "### Wrap-Up\n",
    "\n",
    "Today, we learned how to use while loops to repeat actions as long as a condition is true. We saw examples using a counter, iterating over a list, and even cases where the loop does not run because the condition is false. We also practiced several exercises, including computing the sum, average, and product of a list of numbers. Remember to always update your loop variable to avoid infinite loops. Great work today!"
   ]
  },
  {
   "cell_type": "code",
   "execution_count": null,
   "metadata": {},
   "outputs": [],
   "source": [
    "# Review on Lists - Modifying Lists\n",
    "# For example: Append a new color to the list and remove one color, then print the updated list.\n",
    "# Insert live demo code here"
   ]
  },
  {
   "cell_type": "markdown",
   "metadata": {},
   "source": [
    "Great! With these basics in mind, we can now explore while loops."
   ]
  },
  {
   "cell_type": "markdown",
   "metadata": {},
   "source": [
    "## Part 2: New Information – Introducing While Loops\n",
    "\n",
    "A **while loop** repeats a block of code as long as a specified condition is `True`. The basic structure is:\n",
    "\n",
    "```python\n",
    "while condition:\n",
    "    # code block to execute\n",
    "    # update something so that eventually the condition becomes False\n",
    "```\n",
    "\n",
    "Let's look at some examples."
   ]
  },
  {
   "cell_type": "code",
   "execution_count": null,
   "metadata": {},
   "outputs": [],
   "source": [
    "# Example 1: Using a while loop with a counter\n",
    "counter = 1\n",
    "while counter <= 5:\n",
    "    print(\"Counter is:\", counter)\n",
    "    counter += 1"
   ]
  },
  {
   "cell_type": "markdown",
   "metadata": {},
   "source": [
    "# Session 2: Introduction to While Loops\n",
    "\n",
    "Welcome to Session 2! Today we will explore the concept of looping in Python using the **while loop**. We'll see how to repeat actions while a condition is true, and how to use while loops to iterate over lists. This session builds on basic variables and lists from our previous session.\n",
    "\n",
    "## Agenda\n",
    "1. **Review and Demo** (15 minutes): A brief review of basic concepts (including lists) with live demo cells.\n",
    "2. **New Information – Introducing While Loops** (40–45 minutes): Learn the syntax of while loops and see several basic examples, including using a counter and iterating over a list.\n",
    "3. **We Do and Wrap Up** (30 minutes): A guided exercise to practice writing while loops.\n"
   ]
  },
  {
   "cell_type": "markdown",
   "metadata": {},
   "source": [
    "## Part 1: Review and Demo\n",
    "\n",
    "Before we dive into while loops, let's quickly review some basic concepts such as variables, conditionals, and lists—since a while loop depends on a condition to determine when to stop.\n",
    "\n",
    "**Review Questions:**\n",
    "- What is a variable and how do you assign a value to it?\n",
    "- How do you write an `if`/`else` statement in Python?\n",
    "- How do you create and modify a list?\n",
    "- Why is it important to update conditions within a loop?\n",
    "\n",
    "Below are two demo cells for variables and conditionals. **(No answers are provided so that you can fill them in live with the class.)**"
   ]
  },
  {
   "cell_type": "code",
   "execution_count": null,
   "metadata": {},
   "outputs": [],
   "source": [
    "# Demo 1: Simple variable assignment and if/else condition\n",
    "# Insert live demo code here"
   ]
  },
  {
   "cell_type": "code",
   "execution_count": null,
   "metadata": {},
   "outputs": [],
   "source": [
    "# Demo 2: Demonstrate a basic condition check for a while loop\n",
    "# Insert live demo code here"
   ]
  },
  {
   "cell_type": "markdown",
   "metadata": {},
   "source": [
    "### Review Block: Working with Lists\n",
    "\n",
    "Let's review lists before we move on to while loops."
   ]
  },
  {
   "cell_type": "code",
   "execution_count": null,
   "metadata": {},
   "outputs": [],
   "source": [
    "# Review on Lists - Creating and Accessing Lists\n",
    "# For example: Create a list of your favorite colors and print the first and last elements.\n",
    "# Insert live demo code here"
   ]
  },
  {
   "cell_type": "code",
   "execution_count": null,
   "metadata": {},
   "outputs": [],
   "source": [
    "# Review on Lists - Modifying Lists\n",
    "# For example: Append a new color to the list and remove one color, then print the updated list.\n",
    "# Insert live demo code here"
   ]
  },
  {
   "cell_type": "markdown",
   "metadata": {},
   "source": [
    "Great! With these basics in mind, we can now explore while loops."
   ]
  },
  {
   "cell_type": "markdown",
   "metadata": {},
   "source": [
    "## Part 2: New Information – Introducing While Loops\n",
    "\n",
    "A **while loop** repeats a block of code as long as a specified condition is `True`. The basic structure is:\n",
    "\n",
    "```python\n",
    "while condition:\n",
    "    # code block to execute\n",
    "    # update something so that eventually the condition becomes False\n",
    "```\n",
    "\n",
    "Let's look at some examples."
   ]
  },
  {
   "cell_type": "code",
   "execution_count": null,
   "metadata": {},
   "outputs": [],
   "source": [
    "# Example 1: Using a while loop with a counter\n",
    "counter = 1\n",
    "while counter <= 5:\n",
    "    print(\"Counter is:\", counter)\n",
    "    counter += 1"
   ]
  },
  {
   "cell_type": "code",
   "execution_count": null,
   "metadata": {},
   "outputs": [],
   "source": [
    "# Example 2: Using a while loop with a boolean condition\n",
    "is_valid = False\n",
    "attempts = 0\n",
    "\n",
    "while not is_valid and attempts < 3:\n",
    "    print(f\"Attempt {attempts + 1}: Checking if input is valid...\")\n",
    "    # Simulate checking input\n",
    "    if attempts == 2:  # On the third attempt (index 2)\n",
    "        is_valid = True\n",
    "        print(\"Input is now valid!\")\n",
    "    else:\n",
    "        print(\"Input is not valid yet.\")\n",
    "    attempts += 1\n",
    "\n",
    "if is_valid:\n",
    "    print(\"Successfully validated input.\")\n",
    "else:\n",
    "    print(\"Failed to validate input after 3 attempts.\")"
   ]
  },
  {
   "cell_type": "code",
   "execution_count": null,
   "metadata": {},
   "outputs": [],
   "source": [
    "# Example 3: A while loop with a condition that's initially false\n",
    "counter = 10\n",
    "while counter < 5:\n",
    "    print(\"This will not print\")\n",
    "    counter += 1\n",
    "print(\"Loop ended because the condition was false from the start\")"
   ]
  },
  {
   "cell_type": "code",
   "execution_count": null,
   "metadata": {},
   "outputs": [],
   "source": [
    "# Example 4: A simple countdown using a while loop\n",
    "count = 3\n",
    "while count > 0:\n",
    "    print(count)\n",
    "    count -= 1\n",
    "print(\"Blastoff!\")"
   ]
  },
  {
   "cell_type": "markdown",
   "metadata": {},
   "source": [
    "Remember: Always update the variable used in the condition (such as `counter` or `index`) to avoid creating an infinite loop."
   ]
  },
  {
   "cell_type": "markdown",
   "metadata": {},
   "source": [
    "## Part 3: We Do and Wrap Up\n",
    "\n",
    "Now it's time to practice what we've learned about while loops. In the exercises below, you will:\n",
    "\n",
    "1. Create a list called `my_numbers` containing the numbers 1 to 5 and print it.\n",
    "2. Use a while loop to iterate over `my_numbers` and print each element.\n",
    "3. Use a while loop to calculate the sum of all numbers in `my_numbers` and print the sum.\n",
    "4. **Bonus:** Use a while loop to print the numbers 5 to 1 in descending order.\n",
    "5. **Additional Exercise:** Use a while loop to compute the average of the numbers in `my_numbers` and print it.\n",
    "6. **Additional Exercise:** Use a while loop to compute the product of all numbers in `my_numbers` and print the result.\n",
    "\n",
    "Work on the exercises by filling in the code cells below."
   ]
  },
  {
   "cell_type": "code",
   "execution_count": null,
   "metadata": {},
   "outputs": [],
   "source": [
    "# Guided Exercise - Step 1:\n",
    "# Create a list called `my_numbers` containing the numbers 1 through 5 and print it.\n",
    "# Your code here"
   ]
  },
  {
   "cell_type": "code",
   "execution_count": null,
   "metadata": {},
   "outputs": [],
   "source": [
    "# Guided Exercise - Step 2:\n",
    "# Use a while loop to iterate over `my_numbers` and print each element.\n",
    "# Your code here"
   ]
  },
  {
   "cell_type": "code",
   "execution_count": null,
   "metadata": {},
   "outputs": [],
   "source": [
    "# Guided Exercise - Step 3:\n",
    "# Use a while loop to calculate the sum of all numbers in `my_numbers` and print the sum.\n",
    "# Your code here"
   ]
  },
  {
   "cell_type": "code",
   "execution_count": null,
   "metadata": {},
   "outputs": [],
   "source": [
    "# Bonus - Guided Exercise:\n",
    "# Use a while loop to print the numbers 5 to 1 in descending order.\n",
    "# Your code here"
   ]
  },
  {
   "cell_type": "code",
   "execution_count": null,
   "metadata": {},
   "outputs": [],
   "source": [
    "# Additional Exercise - Step 5:\n",
    "# Use a while loop to compute the average of the numbers in `my_numbers` and print the average.\n",
    "# Your code here"
   ]
  },
  {
   "cell_type": "code",
   "execution_count": null,
   "metadata": {},
   "outputs": [],
   "source": [
    "# Additional Exercise - Step 6:\n",
    "# Use a while loop to compute the product of all numbers in `my_numbers` and print the product.\n",
    "# Your code here"
   ]
  },
  {
   "cell_type": "markdown",
   "metadata": {},
   "source": [
    "### Wrap-Up\n",
    "\n",
    "Today, we learned how to use while loops to repeat actions as long as a condition is true. We saw examples using a counter, iterating over a list, and even cases where the loop does not run because the condition is false. We also practiced several exercises, including computing the sum, average, and product of a list of numbers. Remember to always update your loop variable to avoid infinite loops. Great work today!"
   ]
  },
  {
   "cell_type": "code",
   "execution_count": null,
   "metadata": {},
   "outputs": [],
   "source": [
    "# Example 2: Using a while loop with a boolean condition\n",
    "is_valid = False\n",
    "attempts = 0\n",
    "\n",
    "while not is_valid and attempts < 3:\n",
    "    print(f\"Attempt {attempts + 1}: Checking if input is valid...\")\n",
    "    # Simulate checking input\n",
    "    if attempts == 2:  # On the third attempt (index 2)\n",
    "        is_valid = True\n",
    "        print(\"Input is now valid!\")\n",
    "    else:\n",
    "        print(\"Input is not valid yet.\")\n",
    "    attempts += 1\n",
    "\n",
    "if is_valid:\n",
    "    print(\"Successfully validated input.\")\n",
    "else:\n",
    "    print(\"Failed to validate input after 3 attempts.\")"
   ]
  },
  {
   "cell_type": "code",
   "execution_count": null,
   "metadata": {},
   "outputs": [],
   "source": [
    "# Example 3: A while loop with a condition that's initially false\n",
    "counter = 10\n",
    "while counter < 5:\n",
    "    print(\"This will not print\")\n",
    "    counter += 1\n",
    "print(\"Loop ended because the condition was false from the start\")"
   ]
  },
  {
   "cell_type": "code",
   "execution_count": null,
   "metadata": {},
   "outputs": [],
   "source": [
    "# Example 4: A simple countdown using a while loop\n",
    "count = 3\n",
    "while count > 0:\n",
    "    print(count)\n",
    "    count -= 1\n",
    "print(\"Blastoff!\")"
   ]
  },
  {
   "cell_type": "markdown",
   "metadata": {},
   "source": [
    "Remember: Always update the variable used in the condition (such as `counter` or `index`) to avoid creating an infinite loop."
   ]
  },
  {
   "cell_type": "markdown",
   "metadata": {},
   "source": [
    "## Part 3: We Do and Wrap Up\n",
    "\n",
    "Now it's time to practice what we've learned about while loops. In the exercises below, you will:\n",
    "\n",
    "1. Create a list called `my_numbers` containing the numbers 1 to 5 and print it.\n",
    "2. Use a while loop to iterate over `my_numbers` and print each element.\n",
    "3. Use a while loop to calculate the sum of all numbers in `my_numbers` and print the sum.\n",
    "4. **Bonus:** Use a while loop to print the numbers 5 to 1 in descending order.\n",
    "5. **Additional Exercise:** Use a while loop to compute the average of the numbers in `my_numbers` and print it.\n",
    "6. **Additional Exercise:** Use a while loop to compute the product of all numbers in `my_numbers` and print the result.\n",
    "\n",
    "Work on the exercises by filling in the code cells below."
   ]
  },
  {
   "cell_type": "code",
   "execution_count": null,
   "metadata": {},
   "outputs": [],
   "source": [
    "# Guided Exercise - Step 1:\n",
    "# Create a list called `my_numbers` containing the numbers 1 through 5 and print it.\n",
    "# Your code here"
   ]
  },
  {
   "cell_type": "code",
   "execution_count": null,
   "metadata": {},
   "outputs": [],
   "source": [
    "# Guided Exercise - Step 2:\n",
    "# Use a while loop to iterate over `my_numbers` and print each element.\n",
    "# Your code here"
   ]
  },
  {
   "cell_type": "code",
   "execution_count": null,
   "metadata": {},
   "outputs": [],
   "source": [
    "# Guided Exercise - Step 3:\n",
    "# Use a while loop to calculate the sum of all numbers in `my_numbers` and print the sum.\n",
    "# Your code here"
   ]
  },
  {
   "cell_type": "code",
   "execution_count": null,
   "metadata": {},
   "outputs": [],
   "source": [
    "# Bonus - Guided Exercise:\n",
    "# Use a while loop to print the numbers 5 to 1 in descending order.\n",
    "# Your code here"
   ]
  },
  {
   "cell_type": "code",
   "execution_count": null,
   "metadata": {},
   "outputs": [],
   "source": [
    "# Additional Exercise - Step 5:\n",
    "# Use a while loop to compute the average of the numbers in `my_numbers` and print the average.\n",
    "# Your code here"
   ]
  },
  {
   "cell_type": "code",
   "execution_count": null,
   "metadata": {},
   "outputs": [],
   "source": [
    "# Additional Exercise - Step 6:\n",
    "# Use a while loop to compute the product of all numbers in `my_numbers` and print the product.\n",
    "# Your code here"
   ]
  },
  {
   "cell_type": "markdown",
   "metadata": {},
   "source": [
    "### Wrap-Up\n",
    "\n",
    "Today, we learned how to use while loops to repeat actions as long as a condition is true. We saw examples using a counter, iterating over a list, and even cases where the loop does not run because the condition is false. We also practiced several exercises, including computing the sum, average, and product of a list of numbers. Remember to always update your loop variable to avoid infinite loops. Great work today!"
   ]
  }
 ],
 "metadata": {
  "kernelspec": {
   "display_name": "Python 3",
   "language": "python",
   "name": "python3"
  },
  "language_info": {
   "name": "python",
   "version": "3.x"
  }
 },
 "nbformat": 4,
 "nbformat_minor": 2
}
