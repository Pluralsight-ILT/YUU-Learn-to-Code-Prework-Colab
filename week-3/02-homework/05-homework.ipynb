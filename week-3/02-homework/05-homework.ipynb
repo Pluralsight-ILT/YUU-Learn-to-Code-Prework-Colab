{
 "cells": [
  {
   "cell_type": "markdown",
   "metadata": {},
   "source": [
    "# Homework 5: Lists\n",
    "\n",
    "## **Submission Guidelines**\n",
    "* Focus on completing Exercises 1, 2 and 3. Exercises 4 and 5 are _stretch challenges_.\n",
    "* Submit your by copy and pasting each exercise into the text submission box for this assessment in brightspace",
    "* Clearly label each exercise and include comments to explain your logic.\n",
    "\n",
    "## Instructions\n",
    "\n",
    "Complete the following exercises in a single Python file or Jupyter Notebook. Clearly label each exercise and include comments explaining your logic. **Do not use loops or built-in aggregate functions in Exercises 4 and 5.** Use only basic variables, list indexing (referring to the first element, second element, etc.), conditionals, and arithmetic operations.\n",
    "\n",
    "**Remember to start with the English steps, write pseudocode, then write code.**"
   ]
  },
  {
   "cell_type": "markdown",
   "metadata": {},
   "source": [
    "### Exercise 1: Basic List Operations\n",
    "\n",
    "1. **Create a List:** Write code to create a list with 5 elements of your choice.\n",
    "2. **Print the List:** Display the original list.\n",
    "3. **Modify the List:**\n",
    "   - Change the second element to a new value.\n",
    "   - Append a new element to the end of the list.\n",
    "   - Remove the third element from the list.\n",
    "4. **Print the Updated List:** Verify your modifications by printing the final list.\n"
   ]
  },
  {
   "cell_type": "code",
   "execution_count": null,
   "metadata": {},
   "outputs": [],
   "source": [
    "# Exercise 1, Step 1: Create a list with 5 elements\n",
    "\n",
    "# Your code here\n"
   ]
  },
  {
   "cell_type": "code",
   "execution_count": null,
   "metadata": {},
   "outputs": [],
   "source": [
    "# Exercise 1, Step 2: Print the original list\n",
    "\n",
    "# Your code here\n"
   ]
  },
  {
   "cell_type": "code",
   "execution_count": null,
   "metadata": {},
   "outputs": [],
   "source": [
    "# Exercise 1, Step 3: Modify the list\n",
    "# - Change the second element to a new value\n",
    "# - Append a new element to the end of the list\n",
    "# - Remove the third element from the list\n",
    "# Your code here"
   ]
  },
  {
   "cell_type": "code",
   "execution_count": null,
   "metadata": {},
   "outputs": [],
   "source": [
    "# Exercise 1, Step 4: Print the updated list\n",
    "# Your code here"
   ]
  },
  {
   "cell_type": "markdown",
   "metadata": {},
   "source": [
    "### Exercise 2: Membership Check\n",
    "\n",
    "1. **Create a List:** Write code to create a list with 5 colors of your choice.\n",
    "2. **Membership Check:** Check if the color \"blue\" is in your list.\n",
    "   - If it is present, print a message confirming that the list contains \"blue\".\n",
    "   - If it is not present, print a message indicating that \"blue\" is not in the list.\n",
    "\n",
    "*Note:* You do not need to retrieve the position of the element; simply print a confirmation message."
   ]
  },
  {
   "cell_type": "code",
   "execution_count": null,
   "metadata": {},
   "outputs": [],
   "source": [
    "# Exercise 2, Step 1: Create a list with 5 colors\n",
    "\n",
    "# Your code here\n"
   ]
  },
  {
   "cell_type": "code",
   "execution_count": null,
   "metadata": {},
   "outputs": [],
   "source": [
    "# Exercise 2, Step 2: Check for membership of 'blue'\n",
    "\n",
    "# Your code here\n"
   ]
  },
  {
   "cell_type": "markdown",
   "metadata": {},
   "source": [
    "### Exercise 3: Real-World List Modification (Hard)\n",
    "\n",
    "Imagine you are managing a set of 5 numbers (for example, representing test scores). Write a program that performs the following tasks (remember: the first element is the first, the second is the second, and so on):\n",
    "\n",
    "1. **Initialize the List:** Create a list of 5 numbers.\n",
    "2. **Conditional Adjustment:** Check if the third element is less than 50.\n",
    "   - If it is, update that element to 50.\n",
    "3. **Conditional Penalty:** Calculate the sum of the first element and the last element.\n",
    "   - If this sum is greater than 100, set the last element to 0.\n",
    "4. **Swap Operation:** Swap the first element with the third element.\n",
    "5. **Print the Final List:** Display the modified list.\n"
   ]
  },
  {
   "cell_type": "code",
   "execution_count": null,
   "metadata": {},
   "outputs": [],
   "source": [
    "# Exercise 3, Step 1: Initialize a list of 5 numbers\n",
    "\n",
    "# Your code here\n"
   ]
  },
  {
   "cell_type": "code",
   "execution_count": null,
   "metadata": {},
   "outputs": [],
   "source": [
    "# Exercise 3, Step 2: Conditional adjustment - if the third element is less than 50, update it to 50\n",
    "\n",
    "# Your code here\n"
   ]
  },
  {
   "cell_type": "code",
   "execution_count": null,
   "metadata": {},
   "outputs": [],
   "source": [
    "# Exercise 3, Step 3: Conditional penalty - if the sum of the first and last elements is greater than 100, set the last element to 0\n",
    "\n",
    "# Your code here\n"
   ]
  },
  {
   "cell_type": "code",
   "execution_count": null,
   "metadata": {},
   "outputs": [],
   "source": [
    "# Exercise 3, Step 4: Swap the first element with the third element\n",
    "\n",
    "# Your code here\n"
   ]
  },
  {
   "cell_type": "code",
   "execution_count": null,
   "metadata": {},
   "outputs": [],
   "source": [
    "# Exercise 3, Step 5: Print the final list\n",
    "\n",
    "# Your code here\n"
   ]
  },
  {
   "cell_type": "markdown",
   "metadata": {},
   "source": [
    "### Exercise 4: Manual Analysis Without Loops or Built-In Functions (Extra Hard)\n",
    "\n",
    "You are given a list of 10 numbers (for instance, representing grades). Without using loops or built-in functions (such as `sum()`, `len()`, etc.), complete the following tasks by manually accessing each element:\n",
    "\n",
    "1. **Create a List:** Write code to create a list with 10 numbers.\n",
    "2. **Compute the Total:** Manually add all the numbers by accessing each element individually.\n",
    "3. **Calculate the Average:** Divide the total by the number of elements in the list.\n",
    "4. **Determine the Highest Value:** Use `if` statements to compare the elements and determine the highest value.\n",
    "5. **Determine the Lowest Value:** Similarly, determine the lowest value among the elements.\n",
    "6. **Print Your Results:** Display the average, highest, and lowest values.\n"
   ]
  },
  {
   "cell_type": "code",
   "execution_count": null,
   "metadata": {},
   "outputs": [],
   "source": [
    "# Exercise 4, Step 1: Create a list with 10 numbers\n",
    "\n",
    "# Your code here\n"
   ]
  },
  {
   "cell_type": "code",
   "execution_count": null,
   "metadata": {},
   "outputs": [],
   "source": [
    "# Exercise 4, Step 2: Manually compute the total of all numbers\n",
    "\n",
    "# Your code here\n"
   ]
  },
  {
   "cell_type": "code",
   "execution_count": null,
   "metadata": {},
   "outputs": [],
   "source": [
    "# Exercise 4, Step 3: Calculate the average of the numbers\n",
    "\n",
    "# Your code here\n"
   ]
  },
  {
   "cell_type": "code",
   "execution_count": null,
   "metadata": {},
   "outputs": [],
   "source": [
    "# Exercise 4, Step 4: Determine the highest value using if statements\n",
    "# Your code here"
   ]
  },
  {
   "cell_type": "code",
   "execution_count": null,
   "metadata": {},
   "outputs": [],
   "source": [
    "# Exercise 4, Step 5: Determine the lowest value using if statements\n",
    "\n",
    "# Your code here\n"
   ]
  },
  {
   "cell_type": "code",
   "execution_count": null,
   "metadata": {},
   "outputs": [],
   "source": [
    "# Exercise 4, Step 6: Print the average, highest, and lowest values\n",
    "\n",
    "# Your code here\n"
   ]
  },
  {
   "cell_type": "markdown",
   "metadata": {},
   "source": [
    "### Exercise 5: Vowel Filter Without Loops (Nearly Impossible)\n",
    "\n",
    "Create a program that filters a list of 7 strings to include only those that start with a vowel. **Do not use loops.** Instead, use individual conditional statements and manual indexing.\n",
    "\n",
    "1. **Create a List:** Write code to create a list with 7 strings of your choice.\n",
    "2. **Filter the List:** For each string in the list, check if its first character is a vowel (a, e, i, o, or u).\n",
    "   - *Hint:* To access the first character of a string, use `string[0]`.\n",
    "   - For each string that starts with a vowel, add it to a new list manually.\n",
    "3. **Print the New List:** Display the list of strings that begin with a vowel.\n"
   ]
  },
  {
   "cell_type": "code",
   "execution_count": null,
   "metadata": {},
   "outputs": [],
   "source": [
    "# Exercise 5, Step 1: Create a list with 7 strings\n",
    "\n",
    "# Your code here\n"
   ]
  },
  {
   "cell_type": "code",
   "execution_count": null,
   "metadata": {},
   "outputs": [],
   "source": [
    "# Exercise 5, Step 2: Filter the list to include only strings that start with a vowel\n",
    "\n",
    "# Your code here\n"
   ]
  },
  {
   "cell_type": "code",
   "execution_count": null,
   "metadata": {},
   "outputs": [],
   "source": [
    "# Exercise 5, Step 3: Print the new list of strings that start with a vowel\n",
    "\n",
    "# Your code here\n"
   ]
  }
 ],
 "metadata": {
  "kernelspec": {
   "display_name": "Python 3",
   "language": "python",
   "name": "python3"
  },
  "language_info": {
   "name": "python",
   "version": "3.x"
  }
 },
 "nbformat": 4,
 "nbformat_minor": 2
}
