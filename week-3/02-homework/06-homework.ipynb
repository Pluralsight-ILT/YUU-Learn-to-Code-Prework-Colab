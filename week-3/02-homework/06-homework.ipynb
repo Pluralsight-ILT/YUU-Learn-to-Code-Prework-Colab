{
  "cells": [
    {
      "cell_type": "markdown",
      "metadata": {},
      "source": [
        "# Homework 6: While Loops\n",
        "\n",
        "## **Submission Guidelines**\n",
        "* Focus on completing Exercises 1, 2 and 3. Exercises 4 and 5 are _stretch challenges_.\n",
        "* Submit your work as a single Python file (__`.py`__) or a Jupyter Notebook (__`.ipynb`__).\n",
        "* Clearly label each exercise and include comments to explain your logic.\n",
        "\n",
        "## Instructions\n",
        "\n",
        "Complete the following exercises in a single Python file or Jupyter Notebook. Clearly label each exercise and include comments explaining your logic. Use while loops, conditionals, list indexing (referring to the first element, the second element, etc.), and arithmetic operations.\n",
        "\n",
        "**Remember to start with the English steps, write pseudocode, then write code.**"
      ]
    },
    {
      "cell_type": "markdown",
      "metadata": {},
      "source": [
        "## Exercise 1: Combined Basic While Loop and List Iteration\n",
        "\n",
        "### Part (a): Print Numbers 1 to 10\n",
        "\n",
        "Write a while loop that prints the numbers from 1 to 10 (each on a new line)."
      ]
    },
    {
      "cell_type": "code",
      "execution_count": null,
      "metadata": {},
      "outputs": [],
      "source": [
        "# Exercise 1 (a): Print numbers 1 to 10 using a while loop\n",
        "\n",
        "# Your code here\n",
        "\n",
        "\n",
        "# Bonus - try as a for loop\n"
      ]
    },
    {
      "cell_type": "markdown",
      "metadata": {},
      "source": [
        "### Part (b): List Iteration\n",
        "\n",
        "1. Create a list with 5 elements of your choice.\n",
        "2. Use a while loop to iterate through the list and print each element."
      ]
    },
    {
      "cell_type": "code",
      "execution_count": null,
      "metadata": {},
      "outputs": [],
      "source": [
        "# Exercise 1 (b): Create a list with 5 elements\n",
        "\n",
        "# Your code here\n"
      ]
    },
    {
      "cell_type": "code",
      "execution_count": null,
      "metadata": {},
      "outputs": [],
      "source": [
        "# Exercise 1 (b): Use a while loop to iterate through the list and print each element\n",
        "\n",
        "# Your code here\n"
      ]
    },
    {
      "cell_type": "markdown",
      "metadata": {},
      "source": [
        "## Exercise 2: Sum and Average\n",
        "\n",
        "1. Create a list of 5 numbers.\n",
        "2. Use a while loop to compute the sum of the numbers in the list.\n",
        "3. Calculate the average (total divided by the number of elements).\n",
        "4. Print the sum and the average."
      ]
    },
    {
      "cell_type": "code",
      "execution_count": null,
      "metadata": {},
      "outputs": [],
      "source": [
        "# Exercise 2, Step 1: Create a list of 5 numbers\n",
        "\n",
        "# Your code here\n"
      ]
    },
    {
      "cell_type": "code",
      "execution_count": null,
      "metadata": {},
      "outputs": [],
      "source": [
        "# Exercise 2, Step 2: Use a while loop to compute the sum of the numbers\n",
        "\n",
        "# Your code here\n"
      ]
    },
    {
      "cell_type": "code",
      "execution_count": null,
      "metadata": {},
      "outputs": [],
      "source": [
        "# Exercise 2, Step 3: Calculate the average (total divided by the number of elements)\n",
        "\n",
        "# Your code here\n"
      ]
    },
    {
      "cell_type": "code",
      "execution_count": null,
      "metadata": {},
      "outputs": [],
      "source": [
        "# Exercise 2, Step 4: Print the sum and the average\n",
        "\n",
        "# Your code here\n"
      ]
    },
    {
      "cell_type": "markdown",
      "metadata": {},
      "source": [
        "## Exercise 3: Fizzbuzz\n",
        "\n",
        "A list of numbers from 1 to 100 is provided below. Write a while loop that iterates through this array. For each number, do the following:\n",
        "- If the number is divisible by 15, print **fizzbuzz**.\n",
        "- If the number is divisible by 5, print **buzz**.\n",
        "- If the number is divisible by 3, print **fizz**.\n",
        "- Otherwise, print the number."
      ]
    },
    {
      "cell_type": "code",
      "execution_count": null,
      "metadata": {},
      "outputs": [],
      "source": [
        "# Exercise 3: Fizzbuzz\n",
        "numbers = [1, 2, 3, 4, 5, 6, 7, 8, 9, 10,\n",
        "           11, 12, 13, 14, 15, 16, 17, 18, 19, 20,\n",
        "           21, 22, 23, 24, 25, 26, 27, 28, 29, 30,\n",
        "           31, 32, 33, 34, 35, 36, 37, 38, 39, 40,\n",
        "           41, 42, 43, 44, 45, 46, 47, 48, 49, 50,\n",
        "           51, 52, 53, 54, 55, 56, 57, 58, 59, 60,\n",
        "           61, 62, 63, 64, 65, 66, 67, 68, 69, 70,\n",
        "           71, 72, 73, 74, 75, 76, 77, 78, 79, 80,\n",
        "           81, 82, 83, 84, 85, 86, 87, 88, 89, 90,\n",
        "           91, 92, 93, 94, 95, 96, 97, 98, 99, 100]\n",
        "\n",
        "# Your code here\n",
        "\n",
        "# Example Output: \n",
        "# 1 \n",
        "# 2 \n",
        "# Fizz \n",
        "# 4 \n",
        "# Buzz\n",
        "# ...\n",
        "# ...\n",
        "# 14\n",
        "# FizzBuzz\n",
        "# 16\n",
        "# ...\n",
        "# etc..."
      ]
    },
    {
      "cell_type": "markdown",
      "metadata": {},
      "source": [
        "## Exercise 4: Tax Calculation (Extra Hard)\n",
        "\n",
        "1. Create a list of 5 item prices (numbers).\n",
        "2. Set a tax rate (as a decimal, for example 0.08 for 8%).\n",
        "3. Using a while loop, iterate through the list:\n",
        "   - For each price, compute the price including tax.\n",
        "   - Accumulate the total cost including tax.\n",
        "4. Print the total cost including tax.\n",
        "5. (Optional) Calculate and print the average cost including tax."
      ]
    },
    {
      "cell_type": "code",
      "execution_count": null,
      "metadata": {},
      "outputs": [],
      "source": [
        "# Exercise 4, Step 1: Create a list of 5 item prices\n",
        "\n",
        "# Your code here\n"
      ]
    },
    {
      "cell_type": "code",
      "execution_count": null,
      "metadata": {},
      "outputs": [],
      "source": [
        "# Exercise 4, Step 2: Set a tax rate (e.g., 0.08 for 8% tax)\n",
        "\n",
        "# Your code here\n"
      ]
    },
    {
      "cell_type": "code",
      "execution_count": null,
      "metadata": {},
      "outputs": [],
      "source": [
        "# Exercise 4, Step 3: Use a while loop to compute the price including tax for each item and accumulate the total cost\n",
        "\n",
        "# Your code here\n"
      ]
    },
    {
      "cell_type": "code",
      "execution_count": null,
      "metadata": {},
      "outputs": [],
      "source": [
        "# Exercise 4, Step 4: Print the total cost including tax\n",
        "\n",
        "# Your code here\n"
      ]
    },
    {
      "cell_type": "code",
      "execution_count": null,
      "metadata": {},
      "outputs": [],
      "source": [
        "# Exercise 4, Optional Step 5: Calculate and print the average cost including tax\n",
        "\n",
        "# Your code here\n"
      ]
    },
    {
      "cell_type": "markdown",
      "metadata": {},
      "source": [
        "## Exercise 5: Sorting a List Using a While Loop (Nearly Impossible)\n",
        "\n",
        "1. Create a list of 5 numbers in random order.\n",
        "2. Implement a sort using a while loop and conditionals. Do not use any built-in sort functions.\n",
        "3. Print the sorted list in ascending order."
      ]
    },
    {
      "cell_type": "code",
      "execution_count": null,
      "metadata": {},
      "outputs": [],
      "source": [
        "# Exercise 5, Step 1: Create a list of 5 numbers in random order\n",
        "\n",
        "# Your code here\n"
      ]
    },
    {
      "cell_type": "code",
      "execution_count": null,
      "metadata": {},
      "outputs": [],
      "source": [
        "# Exercise 5, Step 2: Implement a sort (e.g., bubble sort) using a while loop and conditionals\n",
        "\n",
        "# Your code here\n"
      ]
    },
    {
      "cell_type": "code",
      "execution_count": null,
      "metadata": {},
      "outputs": [],
      "source": [
        "# Exercise 5, Step 3: Print the sorted list\n",
        "\n",
        "# Your code here\n"
      ]
    }
  ],
  "metadata": {
    "kernelspec": {
      "display_name": "Python 3",
      "language": "python",
      "name": "python3"
    },
    "language_info": {
      "name": "python",
      "version": "3.x"
    }
  },
  "nbformat": 4,
  "nbformat_minor": 2
}
